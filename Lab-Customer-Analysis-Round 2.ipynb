{
 "cells": [
  {
   "cell_type": "code",
   "execution_count": 59,
   "id": "9f56f602",
   "metadata": {},
   "outputs": [],
   "source": [
    "import pandas as pd"
   ]
  },
  {
   "cell_type": "code",
   "execution_count": 76,
   "id": "15c7d41d",
   "metadata": {},
   "outputs": [],
   "source": [
    "import numpy as np"
   ]
  },
  {
   "cell_type": "code",
   "execution_count": 61,
   "id": "d639c869",
   "metadata": {},
   "outputs": [],
   "source": [
    "file = pd.read_excel('C:/Users/ivanr/OneDrive/Radna površina/files_for_activites103/marketing_customer_analysis.xlsx')"
   ]
  },
  {
   "cell_type": "code",
   "execution_count": 63,
   "id": "f19cfd78",
   "metadata": {},
   "outputs": [
    {
     "data": {
      "text/plain": [
       "(10910, 26)"
      ]
     },
     "execution_count": 63,
     "metadata": {},
     "output_type": "execute_result"
    }
   ],
   "source": [
    "file.shape"
   ]
  },
  {
   "cell_type": "code",
   "execution_count": 64,
   "id": "1752cd41",
   "metadata": {},
   "outputs": [
    {
     "data": {
      "text/plain": [
       "Index(['Unnamed: 0', 'Customer', 'State', 'Customer Lifetime Value',\n",
       "       'Response', 'Coverage', 'Education', 'Effective To Date',\n",
       "       'EmploymentStatus', 'Gender', 'Income', 'Location Code',\n",
       "       'Marital Status', 'Monthly Premium Auto', 'Months Since Last Claim',\n",
       "       'Months Since Policy Inception', 'Number of Open Complaints',\n",
       "       'Number of Policies', 'Policy Type', 'Policy', 'Renew Offer Type',\n",
       "       'Sales Channel', 'Total Claim Amount', 'Vehicle Class', 'Vehicle Size',\n",
       "       'Vehicle Type'],\n",
       "      dtype='object')"
      ]
     },
     "execution_count": 64,
     "metadata": {},
     "output_type": "execute_result"
    }
   ],
   "source": [
    "file.columns"
   ]
  },
  {
   "cell_type": "code",
   "execution_count": 74,
   "id": "02ad8a97",
   "metadata": {},
   "outputs": [
    {
     "data": {
      "text/html": [
       "<div>\n",
       "<style scoped>\n",
       "    .dataframe tbody tr th:only-of-type {\n",
       "        vertical-align: middle;\n",
       "    }\n",
       "\n",
       "    .dataframe tbody tr th {\n",
       "        vertical-align: top;\n",
       "    }\n",
       "\n",
       "    .dataframe thead th {\n",
       "        text-align: right;\n",
       "    }\n",
       "</style>\n",
       "<table border=\"1\" class=\"dataframe\">\n",
       "  <thead>\n",
       "    <tr style=\"text-align: right;\">\n",
       "      <th></th>\n",
       "      <th>unnamed:_0</th>\n",
       "      <th>customer</th>\n",
       "      <th>state</th>\n",
       "      <th>customer_lifetime_value</th>\n",
       "      <th>response</th>\n",
       "      <th>coverage</th>\n",
       "      <th>education</th>\n",
       "      <th>effective_to_date</th>\n",
       "      <th>employmentstatus</th>\n",
       "      <th>gender</th>\n",
       "      <th>...</th>\n",
       "      <th>number_of_open_complaints</th>\n",
       "      <th>number_of_policies</th>\n",
       "      <th>policy_type</th>\n",
       "      <th>policy</th>\n",
       "      <th>renew_offer_type</th>\n",
       "      <th>sales_channel</th>\n",
       "      <th>total_claim_amount</th>\n",
       "      <th>vehicle_class</th>\n",
       "      <th>vehicle_size</th>\n",
       "      <th>vehicle_type</th>\n",
       "    </tr>\n",
       "  </thead>\n",
       "  <tbody>\n",
       "    <tr>\n",
       "      <th>0</th>\n",
       "      <td>0.0</td>\n",
       "      <td>DK49336</td>\n",
       "      <td>Arizona</td>\n",
       "      <td>4809.216960</td>\n",
       "      <td>No</td>\n",
       "      <td>Basic</td>\n",
       "      <td>College</td>\n",
       "      <td>2011-02-18</td>\n",
       "      <td>Employed</td>\n",
       "      <td>M</td>\n",
       "      <td>...</td>\n",
       "      <td>0.0</td>\n",
       "      <td>9.0</td>\n",
       "      <td>Corporate Auto</td>\n",
       "      <td>Corporate L3</td>\n",
       "      <td>Offer3</td>\n",
       "      <td>Agent</td>\n",
       "      <td>292.800000</td>\n",
       "      <td>Four-Door Car</td>\n",
       "      <td>Medsize</td>\n",
       "      <td>NaN</td>\n",
       "    </tr>\n",
       "    <tr>\n",
       "      <th>1</th>\n",
       "      <td>1.0</td>\n",
       "      <td>KX64629</td>\n",
       "      <td>California</td>\n",
       "      <td>2228.525238</td>\n",
       "      <td>No</td>\n",
       "      <td>Basic</td>\n",
       "      <td>College</td>\n",
       "      <td>2011-01-18</td>\n",
       "      <td>Unemployed</td>\n",
       "      <td>F</td>\n",
       "      <td>...</td>\n",
       "      <td>0.0</td>\n",
       "      <td>1.0</td>\n",
       "      <td>Personal Auto</td>\n",
       "      <td>Personal L3</td>\n",
       "      <td>Offer4</td>\n",
       "      <td>Call Center</td>\n",
       "      <td>744.924331</td>\n",
       "      <td>Four-Door Car</td>\n",
       "      <td>Medsize</td>\n",
       "      <td>NaN</td>\n",
       "    </tr>\n",
       "    <tr>\n",
       "      <th>2</th>\n",
       "      <td>2.0</td>\n",
       "      <td>LZ68649</td>\n",
       "      <td>Washington</td>\n",
       "      <td>14947.917300</td>\n",
       "      <td>No</td>\n",
       "      <td>Basic</td>\n",
       "      <td>Bachelor</td>\n",
       "      <td>2011-02-10</td>\n",
       "      <td>Employed</td>\n",
       "      <td>M</td>\n",
       "      <td>...</td>\n",
       "      <td>0.0</td>\n",
       "      <td>2.0</td>\n",
       "      <td>Personal Auto</td>\n",
       "      <td>Personal L3</td>\n",
       "      <td>Offer3</td>\n",
       "      <td>Call Center</td>\n",
       "      <td>480.000000</td>\n",
       "      <td>SUV</td>\n",
       "      <td>Medsize</td>\n",
       "      <td>A</td>\n",
       "    </tr>\n",
       "    <tr>\n",
       "      <th>3</th>\n",
       "      <td>3.0</td>\n",
       "      <td>XL78013</td>\n",
       "      <td>Oregon</td>\n",
       "      <td>22332.439460</td>\n",
       "      <td>Yes</td>\n",
       "      <td>Extended</td>\n",
       "      <td>College</td>\n",
       "      <td>2011-01-11</td>\n",
       "      <td>Employed</td>\n",
       "      <td>M</td>\n",
       "      <td>...</td>\n",
       "      <td>0.0</td>\n",
       "      <td>2.0</td>\n",
       "      <td>Corporate Auto</td>\n",
       "      <td>Corporate L3</td>\n",
       "      <td>Offer2</td>\n",
       "      <td>Branch</td>\n",
       "      <td>484.013411</td>\n",
       "      <td>Four-Door Car</td>\n",
       "      <td>Medsize</td>\n",
       "      <td>A</td>\n",
       "    </tr>\n",
       "    <tr>\n",
       "      <th>4</th>\n",
       "      <td>4.0</td>\n",
       "      <td>QA50777</td>\n",
       "      <td>Oregon</td>\n",
       "      <td>9025.067525</td>\n",
       "      <td>No</td>\n",
       "      <td>Premium</td>\n",
       "      <td>Bachelor</td>\n",
       "      <td>2011-01-17</td>\n",
       "      <td>Medical Leave</td>\n",
       "      <td>F</td>\n",
       "      <td>...</td>\n",
       "      <td>NaN</td>\n",
       "      <td>7.0</td>\n",
       "      <td>Personal Auto</td>\n",
       "      <td>Personal L2</td>\n",
       "      <td>Offer1</td>\n",
       "      <td>Branch</td>\n",
       "      <td>707.925645</td>\n",
       "      <td>Four-Door Car</td>\n",
       "      <td>Medsize</td>\n",
       "      <td>NaN</td>\n",
       "    </tr>\n",
       "  </tbody>\n",
       "</table>\n",
       "<p>5 rows × 26 columns</p>\n",
       "</div>"
      ],
      "text/plain": [
       "   unnamed:_0 customer       state  customer_lifetime_value response  \\\n",
       "0         0.0  DK49336     Arizona              4809.216960       No   \n",
       "1         1.0  KX64629  California              2228.525238       No   \n",
       "2         2.0  LZ68649  Washington             14947.917300       No   \n",
       "3         3.0  XL78013      Oregon             22332.439460      Yes   \n",
       "4         4.0  QA50777      Oregon              9025.067525       No   \n",
       "\n",
       "   coverage education effective_to_date employmentstatus gender  ...  \\\n",
       "0     Basic   College        2011-02-18         Employed      M  ...   \n",
       "1     Basic   College        2011-01-18       Unemployed      F  ...   \n",
       "2     Basic  Bachelor        2011-02-10         Employed      M  ...   \n",
       "3  Extended   College        2011-01-11         Employed      M  ...   \n",
       "4   Premium  Bachelor        2011-01-17    Medical Leave      F  ...   \n",
       "\n",
       "   number_of_open_complaints number_of_policies     policy_type        policy  \\\n",
       "0                        0.0                9.0  Corporate Auto  Corporate L3   \n",
       "1                        0.0                1.0   Personal Auto   Personal L3   \n",
       "2                        0.0                2.0   Personal Auto   Personal L3   \n",
       "3                        0.0                2.0  Corporate Auto  Corporate L3   \n",
       "4                        NaN                7.0   Personal Auto   Personal L2   \n",
       "\n",
       "   renew_offer_type  sales_channel  total_claim_amount  vehicle_class  \\\n",
       "0            Offer3          Agent          292.800000  Four-Door Car   \n",
       "1            Offer4    Call Center          744.924331  Four-Door Car   \n",
       "2            Offer3    Call Center          480.000000            SUV   \n",
       "3            Offer2         Branch          484.013411  Four-Door Car   \n",
       "4            Offer1         Branch          707.925645  Four-Door Car   \n",
       "\n",
       "  vehicle_size vehicle_type  \n",
       "0      Medsize          NaN  \n",
       "1      Medsize          NaN  \n",
       "2      Medsize            A  \n",
       "3      Medsize            A  \n",
       "4      Medsize          NaN  \n",
       "\n",
       "[5 rows x 26 columns]"
      ]
     },
     "execution_count": 74,
     "metadata": {},
     "output_type": "execute_result"
    }
   ],
   "source": [
    "file.head()"
   ]
  },
  {
   "cell_type": "code",
   "execution_count": 71,
   "id": "080a9beb",
   "metadata": {},
   "outputs": [],
   "source": [
    "lower_col = []\n",
    "for col in file.columns:\n",
    "    lower_col.append(col.lower().replace(' ', '_'))"
   ]
  },
  {
   "cell_type": "code",
   "execution_count": 73,
   "id": "1f4230fe",
   "metadata": {},
   "outputs": [],
   "source": [
    "file.columns = lower_col"
   ]
  },
  {
   "cell_type": "code",
   "execution_count": null,
   "id": "f19ca3eb",
   "metadata": {},
   "outputs": [],
   "source": []
  },
  {
   "cell_type": "code",
   "execution_count": null,
   "id": "0c789fed",
   "metadata": {},
   "outputs": [],
   "source": []
  },
  {
   "cell_type": "code",
   "execution_count": 37,
   "id": "6d29d0fc",
   "metadata": {},
   "outputs": [
    {
     "data": {
      "text/plain": [
       "unnamed: 0                              float64\n",
       "customer                                 object\n",
       "state                                    object\n",
       "customer lifetime value                 float64\n",
       "response                                 object\n",
       "coverage                                 object\n",
       "education                                object\n",
       "effective to date                datetime64[ns]\n",
       "employmentstatus                         object\n",
       "gender                                   object\n",
       "income                                  float64\n",
       "location code                            object\n",
       "marital status                           object\n",
       "monthly premium auto                    float64\n",
       "months since last claim                 float64\n",
       "months since policy inception           float64\n",
       "number of open complaints               float64\n",
       "number of policies                      float64\n",
       "policy type                              object\n",
       "policy                                   object\n",
       "renew offer type                         object\n",
       "sales channel                            object\n",
       "total claim amount                      float64\n",
       "vehicle class                            object\n",
       "vehicle size                             object\n",
       "vehicle type                             object\n",
       "dtype: object"
      ]
     },
     "execution_count": 37,
     "metadata": {},
     "output_type": "execute_result"
    }
   ],
   "source": [
    "file.dtypes"
   ]
  },
  {
   "cell_type": "code",
   "execution_count": 69,
   "id": "c1a8fcf5",
   "metadata": {},
   "outputs": [],
   "source": [
    "numeric_columns = file.select_dtypes(np.number)"
   ]
  },
  {
   "cell_type": "code",
   "execution_count": 77,
   "id": "c1bbac22",
   "metadata": {},
   "outputs": [
    {
     "name": "stderr",
     "output_type": "stream",
     "text": [
      "C:\\Users\\ivanr\\AppData\\Local\\Temp\\ipykernel_8340\\1280884850.py:1: DeprecationWarning: `np.object` is a deprecated alias for the builtin `object`. To silence this warning, use `object` by itself. Doing this will not modify any behavior and is safe. \n",
      "Deprecated in NumPy 1.20; for more details and guidance: https://numpy.org/devdocs/release/1.20.0-notes.html#deprecations\n",
      "  categorical_columns = file.select_dtypes(np.object)\n"
     ]
    }
   ],
   "source": [
    "categorical_columns = file.select_dtypes(np.object)"
   ]
  },
  {
   "cell_type": "code",
   "execution_count": 82,
   "id": "b8a95832",
   "metadata": {},
   "outputs": [
    {
     "data": {
      "text/plain": [
       "unnamed:_0                        0.0000\n",
       "customer                          0.0000\n",
       "state                             5.7837\n",
       "customer_lifetime_value           0.0000\n",
       "response                          5.7837\n",
       "coverage                          0.0000\n",
       "education                         0.0000\n",
       "effective_to_date                 0.0000\n",
       "employmentstatus                  0.0000\n",
       "gender                            0.0000\n",
       "income                            0.0000\n",
       "location_code                     0.0000\n",
       "marital_status                    0.0000\n",
       "monthly_premium_auto              0.0000\n",
       "months_since_last_claim           5.8020\n",
       "months_since_policy_inception     0.0000\n",
       "number_of_open_complaints         5.8020\n",
       "number_of_policies                0.0000\n",
       "policy_type                       0.0000\n",
       "policy                            0.0000\n",
       "renew_offer_type                  0.0000\n",
       "sales_channel                     0.0000\n",
       "total_claim_amount                0.0000\n",
       "vehicle_class                     5.7012\n",
       "vehicle_size                      5.7012\n",
       "vehicle_type                     50.2475\n",
       "dtype: float64"
      ]
     },
     "execution_count": 82,
     "metadata": {},
     "output_type": "execute_result"
    }
   ],
   "source": [
    "round(file.isna().sum()/len(file),6)*100"
   ]
  },
  {
   "cell_type": "code",
   "execution_count": 81,
   "id": "e16cd807",
   "metadata": {},
   "outputs": [
    {
     "data": {
      "text/plain": [
       "California    3552\n",
       "Oregon        2909\n",
       "Arizona       1937\n",
       "Nevada         993\n",
       "Washington     888\n",
       "Name: state, dtype: int64"
      ]
     },
     "execution_count": 81,
     "metadata": {},
     "output_type": "execute_result"
    }
   ],
   "source": [
    "file['state'].value_counts()"
   ]
  },
  {
   "cell_type": "code",
   "execution_count": 84,
   "id": "62bf4d0a",
   "metadata": {},
   "outputs": [
    {
     "data": {
      "text/plain": [
       "array(['Arizona', 'California', 'Washington', 'Oregon', nan, 'Nevada'],\n",
       "      dtype=object)"
      ]
     },
     "execution_count": 84,
     "metadata": {},
     "output_type": "execute_result"
    }
   ],
   "source": [
    "file['state'].unique()"
   ]
  },
  {
   "cell_type": "code",
   "execution_count": 86,
   "id": "67051d6d",
   "metadata": {},
   "outputs": [],
   "source": [
    "file['state'] = file['state'].fillna('California')"
   ]
  },
  {
   "cell_type": "code",
   "execution_count": 87,
   "id": "987c4045",
   "metadata": {},
   "outputs": [
    {
     "data": {
      "text/plain": [
       "array(['Arizona', 'California', 'Washington', 'Oregon', 'Nevada'],\n",
       "      dtype=object)"
      ]
     },
     "execution_count": 87,
     "metadata": {},
     "output_type": "execute_result"
    }
   ],
   "source": [
    "file['state'].unique()"
   ]
  },
  {
   "cell_type": "code",
   "execution_count": 89,
   "id": "70a2097c",
   "metadata": {},
   "outputs": [
    {
     "data": {
      "text/plain": [
       "0     7.0\n",
       "1     3.0\n",
       "2    34.0\n",
       "3    10.0\n",
       "4     NaN\n",
       "5     2.0\n",
       "6     8.0\n",
       "7    35.0\n",
       "8    33.0\n",
       "9    19.0\n",
       "Name: months_since_last_claim, dtype: float64"
      ]
     },
     "execution_count": 89,
     "metadata": {},
     "output_type": "execute_result"
    }
   ],
   "source": [
    "file['months_since_last_claim'][:10]"
   ]
  },
  {
   "cell_type": "code",
   "execution_count": 90,
   "id": "a6fc7445",
   "metadata": {},
   "outputs": [],
   "source": [
    "file['months_since_last_claim'] = file['months_since_last_claim'].fillna(np.mean(file['months_since_last_claim']))"
   ]
  },
  {
   "cell_type": "code",
   "execution_count": null,
   "id": "9b9619d5",
   "metadata": {},
   "outputs": [],
   "source": []
  },
  {
   "cell_type": "code",
   "execution_count": 94,
   "id": "65080b3a",
   "metadata": {},
   "outputs": [],
   "source": [
    "file['effective_to_date'] = pd.to_datetime(file['effective_to_date'], errors='coerce')"
   ]
  },
  {
   "cell_type": "code",
   "execution_count": 95,
   "id": "cf25bd90",
   "metadata": {},
   "outputs": [
    {
     "data": {
      "text/plain": [
       "0       2011-02-18\n",
       "1       2011-01-18\n",
       "2       2011-02-10\n",
       "3       2011-01-11\n",
       "4       2011-01-17\n",
       "           ...    \n",
       "10905   2011-01-19\n",
       "10906   2011-01-06\n",
       "10907   2011-02-06\n",
       "10908   2011-02-13\n",
       "10909   2011-01-08\n",
       "Name: effective_to_date, Length: 10910, dtype: datetime64[ns]"
      ]
     },
     "execution_count": 95,
     "metadata": {},
     "output_type": "execute_result"
    }
   ],
   "source": [
    "file['effective_to_date']"
   ]
  },
  {
   "cell_type": "code",
   "execution_count": 96,
   "id": "4435c84f",
   "metadata": {},
   "outputs": [
    {
     "data": {
      "text/plain": [
       "2"
      ]
     },
     "execution_count": 96,
     "metadata": {},
     "output_type": "execute_result"
    }
   ],
   "source": [
    "file['effective_to_date'][0].month"
   ]
  },
  {
   "cell_type": "code",
   "execution_count": 111,
   "id": "81e98837",
   "metadata": {},
   "outputs": [],
   "source": [
    "file['months_effective_to_date'] = list(map(lambda x: x.month, file['effective_to_date']))\n"
   ]
  },
  {
   "cell_type": "code",
   "execution_count": 112,
   "id": "443a0c0d",
   "metadata": {},
   "outputs": [
    {
     "data": {
      "text/html": [
       "<div>\n",
       "<style scoped>\n",
       "    .dataframe tbody tr th:only-of-type {\n",
       "        vertical-align: middle;\n",
       "    }\n",
       "\n",
       "    .dataframe tbody tr th {\n",
       "        vertical-align: top;\n",
       "    }\n",
       "\n",
       "    .dataframe thead th {\n",
       "        text-align: right;\n",
       "    }\n",
       "</style>\n",
       "<table border=\"1\" class=\"dataframe\">\n",
       "  <thead>\n",
       "    <tr style=\"text-align: right;\">\n",
       "      <th></th>\n",
       "      <th>unnamed:_0</th>\n",
       "      <th>customer</th>\n",
       "      <th>state</th>\n",
       "      <th>customer_lifetime_value</th>\n",
       "      <th>response</th>\n",
       "      <th>coverage</th>\n",
       "      <th>education</th>\n",
       "      <th>effective_to_date</th>\n",
       "      <th>employmentstatus</th>\n",
       "      <th>gender</th>\n",
       "      <th>...</th>\n",
       "      <th>number_of_policies</th>\n",
       "      <th>policy_type</th>\n",
       "      <th>policy</th>\n",
       "      <th>renew_offer_type</th>\n",
       "      <th>sales_channel</th>\n",
       "      <th>total_claim_amount</th>\n",
       "      <th>vehicle_class</th>\n",
       "      <th>vehicle_size</th>\n",
       "      <th>vehicle_type</th>\n",
       "      <th>months_effective_to_date</th>\n",
       "    </tr>\n",
       "  </thead>\n",
       "  <tbody>\n",
       "    <tr>\n",
       "      <th>0</th>\n",
       "      <td>0.0</td>\n",
       "      <td>DK49336</td>\n",
       "      <td>Arizona</td>\n",
       "      <td>4809.216960</td>\n",
       "      <td>No</td>\n",
       "      <td>Basic</td>\n",
       "      <td>College</td>\n",
       "      <td>2011-02-18</td>\n",
       "      <td>Employed</td>\n",
       "      <td>M</td>\n",
       "      <td>...</td>\n",
       "      <td>9.0</td>\n",
       "      <td>Corporate Auto</td>\n",
       "      <td>Corporate L3</td>\n",
       "      <td>Offer3</td>\n",
       "      <td>Agent</td>\n",
       "      <td>292.800000</td>\n",
       "      <td>Four-Door Car</td>\n",
       "      <td>Medsize</td>\n",
       "      <td>NaN</td>\n",
       "      <td>2</td>\n",
       "    </tr>\n",
       "    <tr>\n",
       "      <th>1</th>\n",
       "      <td>1.0</td>\n",
       "      <td>KX64629</td>\n",
       "      <td>California</td>\n",
       "      <td>2228.525238</td>\n",
       "      <td>No</td>\n",
       "      <td>Basic</td>\n",
       "      <td>College</td>\n",
       "      <td>2011-01-18</td>\n",
       "      <td>Unemployed</td>\n",
       "      <td>F</td>\n",
       "      <td>...</td>\n",
       "      <td>1.0</td>\n",
       "      <td>Personal Auto</td>\n",
       "      <td>Personal L3</td>\n",
       "      <td>Offer4</td>\n",
       "      <td>Call Center</td>\n",
       "      <td>744.924331</td>\n",
       "      <td>Four-Door Car</td>\n",
       "      <td>Medsize</td>\n",
       "      <td>NaN</td>\n",
       "      <td>1</td>\n",
       "    </tr>\n",
       "    <tr>\n",
       "      <th>2</th>\n",
       "      <td>2.0</td>\n",
       "      <td>LZ68649</td>\n",
       "      <td>Washington</td>\n",
       "      <td>14947.917300</td>\n",
       "      <td>No</td>\n",
       "      <td>Basic</td>\n",
       "      <td>Bachelor</td>\n",
       "      <td>2011-02-10</td>\n",
       "      <td>Employed</td>\n",
       "      <td>M</td>\n",
       "      <td>...</td>\n",
       "      <td>2.0</td>\n",
       "      <td>Personal Auto</td>\n",
       "      <td>Personal L3</td>\n",
       "      <td>Offer3</td>\n",
       "      <td>Call Center</td>\n",
       "      <td>480.000000</td>\n",
       "      <td>SUV</td>\n",
       "      <td>Medsize</td>\n",
       "      <td>A</td>\n",
       "      <td>2</td>\n",
       "    </tr>\n",
       "    <tr>\n",
       "      <th>3</th>\n",
       "      <td>3.0</td>\n",
       "      <td>XL78013</td>\n",
       "      <td>Oregon</td>\n",
       "      <td>22332.439460</td>\n",
       "      <td>Yes</td>\n",
       "      <td>Extended</td>\n",
       "      <td>College</td>\n",
       "      <td>2011-01-11</td>\n",
       "      <td>Employed</td>\n",
       "      <td>M</td>\n",
       "      <td>...</td>\n",
       "      <td>2.0</td>\n",
       "      <td>Corporate Auto</td>\n",
       "      <td>Corporate L3</td>\n",
       "      <td>Offer2</td>\n",
       "      <td>Branch</td>\n",
       "      <td>484.013411</td>\n",
       "      <td>Four-Door Car</td>\n",
       "      <td>Medsize</td>\n",
       "      <td>A</td>\n",
       "      <td>1</td>\n",
       "    </tr>\n",
       "    <tr>\n",
       "      <th>4</th>\n",
       "      <td>4.0</td>\n",
       "      <td>QA50777</td>\n",
       "      <td>Oregon</td>\n",
       "      <td>9025.067525</td>\n",
       "      <td>No</td>\n",
       "      <td>Premium</td>\n",
       "      <td>Bachelor</td>\n",
       "      <td>2011-01-17</td>\n",
       "      <td>Medical Leave</td>\n",
       "      <td>F</td>\n",
       "      <td>...</td>\n",
       "      <td>7.0</td>\n",
       "      <td>Personal Auto</td>\n",
       "      <td>Personal L2</td>\n",
       "      <td>Offer1</td>\n",
       "      <td>Branch</td>\n",
       "      <td>707.925645</td>\n",
       "      <td>Four-Door Car</td>\n",
       "      <td>Medsize</td>\n",
       "      <td>NaN</td>\n",
       "      <td>1</td>\n",
       "    </tr>\n",
       "  </tbody>\n",
       "</table>\n",
       "<p>5 rows × 27 columns</p>\n",
       "</div>"
      ],
      "text/plain": [
       "   unnamed:_0 customer       state  customer_lifetime_value response  \\\n",
       "0         0.0  DK49336     Arizona              4809.216960       No   \n",
       "1         1.0  KX64629  California              2228.525238       No   \n",
       "2         2.0  LZ68649  Washington             14947.917300       No   \n",
       "3         3.0  XL78013      Oregon             22332.439460      Yes   \n",
       "4         4.0  QA50777      Oregon              9025.067525       No   \n",
       "\n",
       "   coverage education effective_to_date employmentstatus gender  ...  \\\n",
       "0     Basic   College        2011-02-18         Employed      M  ...   \n",
       "1     Basic   College        2011-01-18       Unemployed      F  ...   \n",
       "2     Basic  Bachelor        2011-02-10         Employed      M  ...   \n",
       "3  Extended   College        2011-01-11         Employed      M  ...   \n",
       "4   Premium  Bachelor        2011-01-17    Medical Leave      F  ...   \n",
       "\n",
       "   number_of_policies     policy_type        policy  renew_offer_type  \\\n",
       "0                 9.0  Corporate Auto  Corporate L3            Offer3   \n",
       "1                 1.0   Personal Auto   Personal L3            Offer4   \n",
       "2                 2.0   Personal Auto   Personal L3            Offer3   \n",
       "3                 2.0  Corporate Auto  Corporate L3            Offer2   \n",
       "4                 7.0   Personal Auto   Personal L2            Offer1   \n",
       "\n",
       "   sales_channel  total_claim_amount  vehicle_class  vehicle_size  \\\n",
       "0          Agent          292.800000  Four-Door Car       Medsize   \n",
       "1    Call Center          744.924331  Four-Door Car       Medsize   \n",
       "2    Call Center          480.000000            SUV       Medsize   \n",
       "3         Branch          484.013411  Four-Door Car       Medsize   \n",
       "4         Branch          707.925645  Four-Door Car       Medsize   \n",
       "\n",
       "  vehicle_type months_effective_to_date  \n",
       "0          NaN                        2  \n",
       "1          NaN                        1  \n",
       "2            A                        2  \n",
       "3            A                        1  \n",
       "4          NaN                        1  \n",
       "\n",
       "[5 rows x 27 columns]"
      ]
     },
     "execution_count": 112,
     "metadata": {},
     "output_type": "execute_result"
    }
   ],
   "source": [
    "file.head()"
   ]
  },
  {
   "cell_type": "code",
   "execution_count": 115,
   "id": "3eb7990d",
   "metadata": {},
   "outputs": [
    {
     "data": {
      "text/plain": [
       "dtype('int64')"
      ]
     },
     "execution_count": 115,
     "metadata": {},
     "output_type": "execute_result"
    }
   ],
   "source": [
    "file['months_effective_to_date'].dtypes"
   ]
  },
  {
   "cell_type": "code",
   "execution_count": 116,
   "id": "2d3d7cc0",
   "metadata": {},
   "outputs": [],
   "source": [
    "q1 = file[file['months_effective_to_date'].isin([1, 2, 3])]"
   ]
  },
  {
   "cell_type": "code",
   "execution_count": 117,
   "id": "c9ee5b27",
   "metadata": {},
   "outputs": [
    {
     "data": {
      "text/html": [
       "<div>\n",
       "<style scoped>\n",
       "    .dataframe tbody tr th:only-of-type {\n",
       "        vertical-align: middle;\n",
       "    }\n",
       "\n",
       "    .dataframe tbody tr th {\n",
       "        vertical-align: top;\n",
       "    }\n",
       "\n",
       "    .dataframe thead th {\n",
       "        text-align: right;\n",
       "    }\n",
       "</style>\n",
       "<table border=\"1\" class=\"dataframe\">\n",
       "  <thead>\n",
       "    <tr style=\"text-align: right;\">\n",
       "      <th></th>\n",
       "      <th>unnamed:_0</th>\n",
       "      <th>customer</th>\n",
       "      <th>state</th>\n",
       "      <th>customer_lifetime_value</th>\n",
       "      <th>response</th>\n",
       "      <th>coverage</th>\n",
       "      <th>education</th>\n",
       "      <th>effective_to_date</th>\n",
       "      <th>employmentstatus</th>\n",
       "      <th>gender</th>\n",
       "      <th>...</th>\n",
       "      <th>number_of_policies</th>\n",
       "      <th>policy_type</th>\n",
       "      <th>policy</th>\n",
       "      <th>renew_offer_type</th>\n",
       "      <th>sales_channel</th>\n",
       "      <th>total_claim_amount</th>\n",
       "      <th>vehicle_class</th>\n",
       "      <th>vehicle_size</th>\n",
       "      <th>vehicle_type</th>\n",
       "      <th>months_effective_to_date</th>\n",
       "    </tr>\n",
       "  </thead>\n",
       "  <tbody>\n",
       "    <tr>\n",
       "      <th>0</th>\n",
       "      <td>0.0</td>\n",
       "      <td>DK49336</td>\n",
       "      <td>Arizona</td>\n",
       "      <td>4809.216960</td>\n",
       "      <td>No</td>\n",
       "      <td>Basic</td>\n",
       "      <td>College</td>\n",
       "      <td>2011-02-18</td>\n",
       "      <td>Employed</td>\n",
       "      <td>M</td>\n",
       "      <td>...</td>\n",
       "      <td>9.0</td>\n",
       "      <td>Corporate Auto</td>\n",
       "      <td>Corporate L3</td>\n",
       "      <td>Offer3</td>\n",
       "      <td>Agent</td>\n",
       "      <td>292.800000</td>\n",
       "      <td>Four-Door Car</td>\n",
       "      <td>Medsize</td>\n",
       "      <td>NaN</td>\n",
       "      <td>2</td>\n",
       "    </tr>\n",
       "    <tr>\n",
       "      <th>1</th>\n",
       "      <td>1.0</td>\n",
       "      <td>KX64629</td>\n",
       "      <td>California</td>\n",
       "      <td>2228.525238</td>\n",
       "      <td>No</td>\n",
       "      <td>Basic</td>\n",
       "      <td>College</td>\n",
       "      <td>2011-01-18</td>\n",
       "      <td>Unemployed</td>\n",
       "      <td>F</td>\n",
       "      <td>...</td>\n",
       "      <td>1.0</td>\n",
       "      <td>Personal Auto</td>\n",
       "      <td>Personal L3</td>\n",
       "      <td>Offer4</td>\n",
       "      <td>Call Center</td>\n",
       "      <td>744.924331</td>\n",
       "      <td>Four-Door Car</td>\n",
       "      <td>Medsize</td>\n",
       "      <td>NaN</td>\n",
       "      <td>1</td>\n",
       "    </tr>\n",
       "    <tr>\n",
       "      <th>2</th>\n",
       "      <td>2.0</td>\n",
       "      <td>LZ68649</td>\n",
       "      <td>Washington</td>\n",
       "      <td>14947.917300</td>\n",
       "      <td>No</td>\n",
       "      <td>Basic</td>\n",
       "      <td>Bachelor</td>\n",
       "      <td>2011-02-10</td>\n",
       "      <td>Employed</td>\n",
       "      <td>M</td>\n",
       "      <td>...</td>\n",
       "      <td>2.0</td>\n",
       "      <td>Personal Auto</td>\n",
       "      <td>Personal L3</td>\n",
       "      <td>Offer3</td>\n",
       "      <td>Call Center</td>\n",
       "      <td>480.000000</td>\n",
       "      <td>SUV</td>\n",
       "      <td>Medsize</td>\n",
       "      <td>A</td>\n",
       "      <td>2</td>\n",
       "    </tr>\n",
       "    <tr>\n",
       "      <th>3</th>\n",
       "      <td>3.0</td>\n",
       "      <td>XL78013</td>\n",
       "      <td>Oregon</td>\n",
       "      <td>22332.439460</td>\n",
       "      <td>Yes</td>\n",
       "      <td>Extended</td>\n",
       "      <td>College</td>\n",
       "      <td>2011-01-11</td>\n",
       "      <td>Employed</td>\n",
       "      <td>M</td>\n",
       "      <td>...</td>\n",
       "      <td>2.0</td>\n",
       "      <td>Corporate Auto</td>\n",
       "      <td>Corporate L3</td>\n",
       "      <td>Offer2</td>\n",
       "      <td>Branch</td>\n",
       "      <td>484.013411</td>\n",
       "      <td>Four-Door Car</td>\n",
       "      <td>Medsize</td>\n",
       "      <td>A</td>\n",
       "      <td>1</td>\n",
       "    </tr>\n",
       "    <tr>\n",
       "      <th>4</th>\n",
       "      <td>4.0</td>\n",
       "      <td>QA50777</td>\n",
       "      <td>Oregon</td>\n",
       "      <td>9025.067525</td>\n",
       "      <td>No</td>\n",
       "      <td>Premium</td>\n",
       "      <td>Bachelor</td>\n",
       "      <td>2011-01-17</td>\n",
       "      <td>Medical Leave</td>\n",
       "      <td>F</td>\n",
       "      <td>...</td>\n",
       "      <td>7.0</td>\n",
       "      <td>Personal Auto</td>\n",
       "      <td>Personal L2</td>\n",
       "      <td>Offer1</td>\n",
       "      <td>Branch</td>\n",
       "      <td>707.925645</td>\n",
       "      <td>Four-Door Car</td>\n",
       "      <td>Medsize</td>\n",
       "      <td>NaN</td>\n",
       "      <td>1</td>\n",
       "    </tr>\n",
       "  </tbody>\n",
       "</table>\n",
       "<p>5 rows × 27 columns</p>\n",
       "</div>"
      ],
      "text/plain": [
       "   unnamed:_0 customer       state  customer_lifetime_value response  \\\n",
       "0         0.0  DK49336     Arizona              4809.216960       No   \n",
       "1         1.0  KX64629  California              2228.525238       No   \n",
       "2         2.0  LZ68649  Washington             14947.917300       No   \n",
       "3         3.0  XL78013      Oregon             22332.439460      Yes   \n",
       "4         4.0  QA50777      Oregon              9025.067525       No   \n",
       "\n",
       "   coverage education effective_to_date employmentstatus gender  ...  \\\n",
       "0     Basic   College        2011-02-18         Employed      M  ...   \n",
       "1     Basic   College        2011-01-18       Unemployed      F  ...   \n",
       "2     Basic  Bachelor        2011-02-10         Employed      M  ...   \n",
       "3  Extended   College        2011-01-11         Employed      M  ...   \n",
       "4   Premium  Bachelor        2011-01-17    Medical Leave      F  ...   \n",
       "\n",
       "   number_of_policies     policy_type        policy  renew_offer_type  \\\n",
       "0                 9.0  Corporate Auto  Corporate L3            Offer3   \n",
       "1                 1.0   Personal Auto   Personal L3            Offer4   \n",
       "2                 2.0   Personal Auto   Personal L3            Offer3   \n",
       "3                 2.0  Corporate Auto  Corporate L3            Offer2   \n",
       "4                 7.0   Personal Auto   Personal L2            Offer1   \n",
       "\n",
       "   sales_channel  total_claim_amount  vehicle_class  vehicle_size  \\\n",
       "0          Agent          292.800000  Four-Door Car       Medsize   \n",
       "1    Call Center          744.924331  Four-Door Car       Medsize   \n",
       "2    Call Center          480.000000            SUV       Medsize   \n",
       "3         Branch          484.013411  Four-Door Car       Medsize   \n",
       "4         Branch          707.925645  Four-Door Car       Medsize   \n",
       "\n",
       "  vehicle_type months_effective_to_date  \n",
       "0          NaN                        2  \n",
       "1          NaN                        1  \n",
       "2            A                        2  \n",
       "3            A                        1  \n",
       "4          NaN                        1  \n",
       "\n",
       "[5 rows x 27 columns]"
      ]
     },
     "execution_count": 117,
     "metadata": {},
     "output_type": "execute_result"
    }
   ],
   "source": [
    "q1.head()"
   ]
  },
  {
   "cell_type": "code",
   "execution_count": null,
   "id": "2226250c",
   "metadata": {},
   "outputs": [],
   "source": []
  },
  {
   "cell_type": "code",
   "execution_count": null,
   "id": "1012391c",
   "metadata": {},
   "outputs": [],
   "source": []
  },
  {
   "cell_type": "code",
   "execution_count": null,
   "id": "c4334446",
   "metadata": {},
   "outputs": [],
   "source": []
  },
  {
   "cell_type": "code",
   "execution_count": null,
   "id": "8b85c122",
   "metadata": {},
   "outputs": [],
   "source": []
  },
  {
   "cell_type": "code",
   "execution_count": null,
   "id": "461b569b",
   "metadata": {},
   "outputs": [],
   "source": []
  },
  {
   "cell_type": "code",
   "execution_count": null,
   "id": "a3d10032",
   "metadata": {},
   "outputs": [],
   "source": []
  }
 ],
 "metadata": {
  "kernelspec": {
   "display_name": "Python 3 (ipykernel)",
   "language": "python",
   "name": "python3"
  },
  "language_info": {
   "codemirror_mode": {
    "name": "ipython",
    "version": 3
   },
   "file_extension": ".py",
   "mimetype": "text/x-python",
   "name": "python",
   "nbconvert_exporter": "python",
   "pygments_lexer": "ipython3",
   "version": "3.9.12"
  }
 },
 "nbformat": 4,
 "nbformat_minor": 5
}
