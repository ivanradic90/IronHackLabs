{
 "cells": [
  {
   "cell_type": "code",
   "execution_count": 28,
   "id": "4ae71a52",
   "metadata": {},
   "outputs": [],
   "source": [
    "from bs4 import BeautifulSoup\n",
    "import pandas as pd\n",
    "import requests\n",
    "import numpy as np"
   ]
  },
  {
   "cell_type": "code",
   "execution_count": 51,
   "id": "d34d10bc",
   "metadata": {},
   "outputs": [
    {
     "name": "stdout",
     "output_type": "stream",
     "text": [
      "Scraped 1-50\n",
      "Scraped 51-100\n",
      "Scraped 101-150\n",
      "Scraped 151-200\n",
      "Scraped 201-250\n",
      "Scraped 251-300\n",
      "Scraped 301-350\n",
      "Scraped 351-400\n",
      "Scraped 401-450\n",
      "Scraped 451-500\n",
      "Scraped 501-550\n",
      "Scraped 551-600\n",
      "Scraped 601-650\n",
      "Scraped 651-700\n"
     ]
    }
   ],
   "source": [
    "base_url = \"https://www.imdb.com/search/title/?title_type=feature&release_date=1990-01-01,1992-12-31&user_rating=7.5,&start={}&ref_=adv_nxt\"\n",
    "results = []\n",
    "\n",
    "for start in range(1, 676, 50):\n",
    "    url = base_url.format(start)\n",
    "    response = requests.get(url)\n",
    "\n",
    "    if response.status_code == 200:\n",
    "        soup = BeautifulSoup(response.text, 'html.parser')\n",
    "        movies = soup.find_all('div', class_='lister-item-content')\n",
    "\n",
    "        for movie in movies:\n",
    "            title = movie.find('a').text.strip()\n",
    "            year = movie.find('span', class_='lister-item-year text-muted unbold').text.strip() if movie.find('span', class_='lister-item-year text-muted unbold') else 'Not specified'\n",
    "            genre = movie.find('span', class_='genre').text.strip() if movie.find('span', class_='genre') else 'Not specified'\n",
    "            director = movie.find('p', class_='').find_all('a')[0].text.strip() if movie.find('p', class_='') and movie.find('p', class_='').find_all('a') else 'Not specified'\n",
    "            rating = movie.find('strong').text.strip()\n",
    "            stars = ', '.join([star.text.strip() for star in movie.find('p', class_='').find_all('a')[1:]]) if movie.find('p', class_='') else 'Not specified'\n",
    "            votes_revenue = movie.find_all('span', {'name': 'nv'})\n",
    "            votes = votes_revenue[0].text.strip() if votes_revenue else 'Not specified'\n",
    "            revenue = votes_revenue[1].text.strip() if len(votes_revenue) > 1 else 'Not specified'\n",
    "\n",
    "            results.append({\n",
    "                'title': title,\n",
    "                'year': year,\n",
    "                'genre': genre,\n",
    "                'director': director,\n",
    "                'rating': rating,\n",
    "                'stars': stars,\n",
    "                'votes': votes,\n",
    "                'revenue': revenue\n",
    "            })\n",
    "\n",
    "        print(f'Scraped {start}-{start + 49}')\n",
    "        time.sleep(1)  \n",
    "    else:\n",
    "        print(f'Error {response.status_code} for start={start}')\n",
    "\n",
    "df = pd.DataFrame(results)\n",
    "df.to_csv('movies.csv', index=False)\n"
   ]
  },
  {
   "cell_type": "code",
   "execution_count": 52,
   "id": "e3f38fdf",
   "metadata": {},
   "outputs": [
    {
     "data": {
      "text/html": [
       "<div>\n",
       "<style scoped>\n",
       "    .dataframe tbody tr th:only-of-type {\n",
       "        vertical-align: middle;\n",
       "    }\n",
       "\n",
       "    .dataframe tbody tr th {\n",
       "        vertical-align: top;\n",
       "    }\n",
       "\n",
       "    .dataframe thead th {\n",
       "        text-align: right;\n",
       "    }\n",
       "</style>\n",
       "<table border=\"1\" class=\"dataframe\">\n",
       "  <thead>\n",
       "    <tr style=\"text-align: right;\">\n",
       "      <th></th>\n",
       "      <th>title</th>\n",
       "      <th>year</th>\n",
       "      <th>genre</th>\n",
       "      <th>director</th>\n",
       "      <th>rating</th>\n",
       "      <th>stars</th>\n",
       "      <th>votes</th>\n",
       "      <th>revenue</th>\n",
       "    </tr>\n",
       "  </thead>\n",
       "  <tbody>\n",
       "    <tr>\n",
       "      <th>0</th>\n",
       "      <td>Goodfellas</td>\n",
       "      <td>(1990)</td>\n",
       "      <td>Biography, Crime, Drama</td>\n",
       "      <td>Martin Scorsese</td>\n",
       "      <td>8.7</td>\n",
       "      <td>Robert De Niro, Ray Liotta, Joe Pesci, Lorrain...</td>\n",
       "      <td>1,178,923</td>\n",
       "      <td>$46.84M</td>\n",
       "    </tr>\n",
       "    <tr>\n",
       "      <th>1</th>\n",
       "      <td>The Silence of the Lambs</td>\n",
       "      <td>(1991)</td>\n",
       "      <td>Crime, Drama, Thriller</td>\n",
       "      <td>Jonathan Demme</td>\n",
       "      <td>8.6</td>\n",
       "      <td>Jodie Foster, Anthony Hopkins, Lawrence A. Bon...</td>\n",
       "      <td>1,453,019</td>\n",
       "      <td>$130.74M</td>\n",
       "    </tr>\n",
       "    <tr>\n",
       "      <th>2</th>\n",
       "      <td>Terminator 2: Judgment Day</td>\n",
       "      <td>(1991)</td>\n",
       "      <td>Action, Sci-Fi</td>\n",
       "      <td>James Cameron</td>\n",
       "      <td>8.6</td>\n",
       "      <td>Arnold Schwarzenegger, Linda Hamilton, Edward ...</td>\n",
       "      <td>1,113,245</td>\n",
       "      <td>$204.84M</td>\n",
       "    </tr>\n",
       "    <tr>\n",
       "      <th>3</th>\n",
       "      <td>Reservoir Dogs</td>\n",
       "      <td>(1992)</td>\n",
       "      <td>Crime, Thriller</td>\n",
       "      <td>Quentin Tarantino</td>\n",
       "      <td>8.3</td>\n",
       "      <td>Harvey Keitel, Tim Roth, Michael Madsen, Chris...</td>\n",
       "      <td>1,033,347</td>\n",
       "      <td>$2.83M</td>\n",
       "    </tr>\n",
       "    <tr>\n",
       "      <th>4</th>\n",
       "      <td>My Cousin Vinny</td>\n",
       "      <td>(1992)</td>\n",
       "      <td>Comedy, Crime</td>\n",
       "      <td>Jonathan Lynn</td>\n",
       "      <td>7.6</td>\n",
       "      <td>Joe Pesci, Marisa Tomei, Ralph Macchio, Mitche...</td>\n",
       "      <td>129,642</td>\n",
       "      <td>$52.93M</td>\n",
       "    </tr>\n",
       "  </tbody>\n",
       "</table>\n",
       "</div>"
      ],
      "text/plain": [
       "                        title    year                    genre  \\\n",
       "0                  Goodfellas  (1990)  Biography, Crime, Drama   \n",
       "1    The Silence of the Lambs  (1991)   Crime, Drama, Thriller   \n",
       "2  Terminator 2: Judgment Day  (1991)           Action, Sci-Fi   \n",
       "3              Reservoir Dogs  (1992)          Crime, Thriller   \n",
       "4             My Cousin Vinny  (1992)            Comedy, Crime   \n",
       "\n",
       "            director rating  \\\n",
       "0    Martin Scorsese    8.7   \n",
       "1     Jonathan Demme    8.6   \n",
       "2      James Cameron    8.6   \n",
       "3  Quentin Tarantino    8.3   \n",
       "4      Jonathan Lynn    7.6   \n",
       "\n",
       "                                               stars      votes   revenue  \n",
       "0  Robert De Niro, Ray Liotta, Joe Pesci, Lorrain...  1,178,923   $46.84M  \n",
       "1  Jodie Foster, Anthony Hopkins, Lawrence A. Bon...  1,453,019  $130.74M  \n",
       "2  Arnold Schwarzenegger, Linda Hamilton, Edward ...  1,113,245  $204.84M  \n",
       "3  Harvey Keitel, Tim Roth, Michael Madsen, Chris...  1,033,347    $2.83M  \n",
       "4  Joe Pesci, Marisa Tomei, Ralph Macchio, Mitche...    129,642   $52.93M  "
      ]
     },
     "execution_count": 52,
     "metadata": {},
     "output_type": "execute_result"
    }
   ],
   "source": [
    "df.head()"
   ]
  },
  {
   "cell_type": "code",
   "execution_count": 54,
   "id": "9fb170a4",
   "metadata": {},
   "outputs": [
    {
     "data": {
      "text/plain": [
       "title       0\n",
       "year        0\n",
       "genre       0\n",
       "director    0\n",
       "rating      0\n",
       "stars       0\n",
       "votes       0\n",
       "revenue     0\n",
       "dtype: int64"
      ]
     },
     "execution_count": 54,
     "metadata": {},
     "output_type": "execute_result"
    }
   ],
   "source": [
    "df.isnull().sum()"
   ]
  },
  {
   "cell_type": "code",
   "execution_count": null,
   "id": "3fcee812",
   "metadata": {},
   "outputs": [],
   "source": []
  },
  {
   "cell_type": "code",
   "execution_count": null,
   "id": "eaa9546d",
   "metadata": {},
   "outputs": [],
   "source": []
  },
  {
   "cell_type": "code",
   "execution_count": null,
   "id": "36873a61",
   "metadata": {},
   "outputs": [],
   "source": []
  },
  {
   "cell_type": "code",
   "execution_count": null,
   "id": "476c5b4b",
   "metadata": {},
   "outputs": [],
   "source": []
  },
  {
   "cell_type": "code",
   "execution_count": null,
   "id": "0cb82f62",
   "metadata": {},
   "outputs": [],
   "source": []
  },
  {
   "cell_type": "code",
   "execution_count": null,
   "id": "ae7426c1",
   "metadata": {},
   "outputs": [],
   "source": []
  },
  {
   "cell_type": "code",
   "execution_count": null,
   "id": "75cc703c",
   "metadata": {},
   "outputs": [],
   "source": []
  },
  {
   "cell_type": "code",
   "execution_count": null,
   "id": "d73c2a2b",
   "metadata": {},
   "outputs": [],
   "source": []
  },
  {
   "cell_type": "code",
   "execution_count": null,
   "id": "19120017",
   "metadata": {},
   "outputs": [],
   "source": []
  },
  {
   "cell_type": "code",
   "execution_count": null,
   "id": "c1397d75",
   "metadata": {},
   "outputs": [],
   "source": []
  },
  {
   "cell_type": "code",
   "execution_count": null,
   "id": "a0454758",
   "metadata": {},
   "outputs": [],
   "source": []
  },
  {
   "cell_type": "code",
   "execution_count": null,
   "id": "72396d6c",
   "metadata": {},
   "outputs": [],
   "source": []
  },
  {
   "cell_type": "code",
   "execution_count": null,
   "id": "d4467d57",
   "metadata": {},
   "outputs": [],
   "source": []
  },
  {
   "cell_type": "code",
   "execution_count": null,
   "id": "cc5ae04c",
   "metadata": {},
   "outputs": [],
   "source": []
  },
  {
   "cell_type": "code",
   "execution_count": null,
   "id": "37a744bf",
   "metadata": {},
   "outputs": [],
   "source": []
  },
  {
   "cell_type": "code",
   "execution_count": null,
   "id": "027262f8",
   "metadata": {},
   "outputs": [],
   "source": []
  },
  {
   "cell_type": "code",
   "execution_count": null,
   "id": "bef276ff",
   "metadata": {},
   "outputs": [],
   "source": []
  },
  {
   "cell_type": "code",
   "execution_count": null,
   "id": "f8c57ee2",
   "metadata": {},
   "outputs": [],
   "source": []
  },
  {
   "cell_type": "code",
   "execution_count": null,
   "id": "263d2021",
   "metadata": {},
   "outputs": [],
   "source": []
  }
 ],
 "metadata": {
  "kernelspec": {
   "display_name": "Python 3 (ipykernel)",
   "language": "python",
   "name": "python3"
  },
  "language_info": {
   "codemirror_mode": {
    "name": "ipython",
    "version": 3
   },
   "file_extension": ".py",
   "mimetype": "text/x-python",
   "name": "python",
   "nbconvert_exporter": "python",
   "pygments_lexer": "ipython3",
   "version": "3.9.12"
  }
 },
 "nbformat": 4,
 "nbformat_minor": 5
}
